{
  "nbformat": 4,
  "nbformat_minor": 0,
  "metadata": {
    "colab": {
      "provenance": [],
      "machine_shape": "hm",
      "gpuType": "V100"
    },
    "kernelspec": {
      "name": "python3",
      "display_name": "Python 3"
    },
    "language_info": {
      "name": "python"
    },
    "accelerator": "GPU"
  },
  "cells": [
    {
      "cell_type": "code",
      "source": [
        "import os"
      ],
      "metadata": {
        "id": "sMjGWZwRDB6I"
      },
      "execution_count": 4,
      "outputs": []
    },
    {
      "cell_type": "code",
      "source": [
        "from google.colab import drive\n",
        "\n",
        "drive.mount('/content/drive')"
      ],
      "metadata": {
        "colab": {
          "base_uri": "https://localhost:8080/"
        },
        "id": "K8YUgmC0X8wA",
        "outputId": "a8e29500-cd59-4753-db8e-0a0f45b3e759"
      },
      "execution_count": 1,
      "outputs": [
        {
          "output_type": "stream",
          "name": "stdout",
          "text": [
            "Mounted at /content/drive\n"
          ]
        }
      ]
    },
    {
      "cell_type": "code",
      "source": [
        "ROOT_DIR = '/content/drive/My Drive/WAID/WAID-main/WAID-main/WAID'"
      ],
      "metadata": {
        "id": "VV-xphD5C0MP"
      },
      "execution_count": 3,
      "outputs": []
    },
    {
      "cell_type": "code",
      "execution_count": null,
      "metadata": {
        "id": "JC3SkDf9U3vb"
      },
      "outputs": [],
      "source": [
        "!pip install ultralytics"
      ]
    },
    {
      "cell_type": "markdown",
      "source": [],
      "metadata": {
        "id": "1a4HccloC8fg"
      }
    },
    {
      "cell_type": "code",
      "source": [
        "from ultralytics import YOLO\n",
        "\n",
        "model = YOLO('animalDetector.pt')\n",
        "\n",
        "metrics = model.val(data=os.path.join(ROOT_DIR, 'config.yaml'))"
      ],
      "metadata": {
        "id": "185VtnnpVA0u",
        "colab": {
          "base_uri": "https://localhost:8080/"
        },
        "outputId": "f0a6c5c2-5afa-40a8-9957-fc10332f9825"
      },
      "execution_count": 5,
      "outputs": [
        {
          "output_type": "stream",
          "name": "stdout",
          "text": [
            "Ultralytics YOLOv8.1.41 🚀 Python-3.10.12 torch-2.2.1+cu121 CUDA:0 (Tesla V100-SXM2-16GB, 16151MiB)\n",
            "YOLOv8s summary (fused): 168 layers, 11127906 parameters, 0 gradients, 28.4 GFLOPs\n",
            "Downloading https://ultralytics.com/assets/Arial.ttf to '/root/.config/Ultralytics/Arial.ttf'...\n"
          ]
        },
        {
          "output_type": "stream",
          "name": "stderr",
          "text": [
            "100%|██████████| 755k/755k [00:00<00:00, 39.0MB/s]\n",
            "\u001b[34m\u001b[1mval: \u001b[0mScanning /content/drive/My Drive/WAID/WAID-main/WAID-main/WAID/labels/test... 1437 images, 10 backgrounds, 0 corrupt: 100%|██████████| 1447/1447 [02:10<00:00, 11.13it/s]\n"
          ]
        },
        {
          "output_type": "stream",
          "name": "stdout",
          "text": [
            "\u001b[34m\u001b[1mval: \u001b[0mNew cache created: /content/drive/My Drive/WAID/WAID-main/WAID-main/WAID/labels/test.cache\n"
          ]
        },
        {
          "output_type": "stream",
          "name": "stderr",
          "text": [
            "                 Class     Images  Instances      Box(P          R      mAP50  mAP50-95): 100%|██████████| 91/91 [00:20<00:00,  4.47it/s]\n"
          ]
        },
        {
          "output_type": "stream",
          "name": "stdout",
          "text": [
            "                   all       1447      23820      0.944      0.943      0.966      0.637\n",
            "                 sheep       1447      13323      0.976      0.968      0.983      0.667\n",
            "                cattle       1447       6240      0.938      0.954      0.951       0.67\n",
            "                  seal       1447       2689      0.964      0.965      0.987      0.725\n",
            "                 kiang       1447        676      0.913      0.899      0.948      0.572\n",
            "               camelus       1447        460       0.93      0.928      0.961      0.558\n",
            "                 zebra       1447        432      0.943      0.944      0.968      0.632\n",
            "Speed: 0.2ms preprocess, 2.9ms inference, 0.0ms loss, 4.2ms postprocess per image\n",
            "Results saved to \u001b[1mruns/detect/val\u001b[0m\n"
          ]
        }
      ]
    },
    {
      "cell_type": "code",
      "source": [
        "metrics.results_dict"
      ],
      "metadata": {
        "id": "YauD--sDYyGa",
        "colab": {
          "base_uri": "https://localhost:8080/"
        },
        "outputId": "30fd8b5e-d79c-496f-f231-de7cb38f8ebc"
      },
      "execution_count": 6,
      "outputs": [
        {
          "output_type": "execute_result",
          "data": {
            "text/plain": [
              "{'metrics/precision(B)': 0.9439226626944741,\n",
              " 'metrics/recall(B)': 0.9433213019219454,\n",
              " 'metrics/mAP50(B)': 0.9664579577088969,\n",
              " 'metrics/mAP50-95(B)': 0.6373820549669905,\n",
              " 'fitness': 0.6702896452411812}"
            ]
          },
          "metadata": {},
          "execution_count": 6
        }
      ]
    }
  ]
}